{
 "cells": [
  {
   "cell_type": "markdown",
   "id": "b5703044-3f61-4d6b-a8e6-7bbd309bb79f",
   "metadata": {},
   "source": [
    "### Silver prep\n",
    "\n",
    "#### - not null\n",
    "#### - no duplicates \n",
    "#### - no empty columns\n",
    "#### - ',' separator\n",
    "#### - parquet "
   ]
  },
  {
   "cell_type": "code",
   "execution_count": 15,
   "id": "b780dc5a-7f6a-4b11-82b5-b962e031f22a",
   "metadata": {},
   "outputs": [],
   "source": [
    "import pandas as pd"
   ]
  },
  {
   "cell_type": "code",
   "execution_count": 16,
   "id": "3068239b-a02b-4c38-bbb3-fcf160597013",
   "metadata": {},
   "outputs": [],
   "source": [
    "# Read with separator\n",
    "df = pd.read_csv('cinemaTicket_Ref.csv', sep = ',')"
   ]
  },
  {
   "cell_type": "code",
   "execution_count": 17,
   "id": "b2a14825-d3ca-4d36-8dd3-70c61723bd23",
   "metadata": {},
   "outputs": [],
   "source": [
    "# Dropna\n",
    "df = df.dropna()"
   ]
  },
  {
   "cell_type": "code",
   "execution_count": 18,
   "id": "8ba4394e-a128-4b27-b40a-4c6d015592c7",
   "metadata": {},
   "outputs": [],
   "source": [
    "# Drop Duplicates\n",
    "df = df.drop_duplicates()"
   ]
  },
  {
   "cell_type": "code",
   "execution_count": 19,
   "id": "e0be5c2e-9e6b-442c-9cd8-f038a037c02e",
   "metadata": {},
   "outputs": [],
   "source": [
    "# Write Parquet\n",
    "df.to_parquet('clean_cinema.parquet', compression='snappy')"
   ]
  },
  {
   "cell_type": "code",
   "execution_count": null,
   "id": "7d202477-ab66-4f39-9e02-af8b3eb7ea7d",
   "metadata": {},
   "outputs": [],
   "source": []
  }
 ],
 "metadata": {
  "kernelspec": {
   "display_name": "Python [conda env:base] *",
   "language": "python",
   "name": "conda-base-py"
  },
  "language_info": {
   "codemirror_mode": {
    "name": "ipython",
    "version": 3
   },
   "file_extension": ".py",
   "mimetype": "text/x-python",
   "name": "python",
   "nbconvert_exporter": "python",
   "pygments_lexer": "ipython3",
   "version": "3.13.5"
  }
 },
 "nbformat": 4,
 "nbformat_minor": 5
}
